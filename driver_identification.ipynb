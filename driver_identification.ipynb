{
 "cells": [
  {
   "cell_type": "markdown",
   "metadata": {},
   "source": [
    "Driver Identification System using Deep Learning"
   ]
  },
  {
   "cell_type": "code",
   "execution_count": 1,
   "metadata": {},
   "outputs": [
    {
     "data": {
      "text/plain": [
       "OneClassSVM(cache_size=200, coef0=0.0, degree=3, gamma=0.1, kernel='rbf',\n",
       "      max_iter=-1, nu=0.1, random_state=None, shrinking=True, tol=0.001,\n",
       "      verbose=False)"
      ]
     },
     "execution_count": 1,
     "metadata": {},
     "output_type": "execute_result"
    }
   ],
   "source": [
    "import pandas as pd\n",
    "%matplotlib inline\n",
    "import matplotlib.pyplot as plt\n",
    "import numpy as np\n",
    "\n",
    "data = pd.read_csv('full_data_test.csv')\n",
    "columns2=[\"Long_Term_Fuel_Trim_Bank1\",\"Intake_air_pressure\",\"Accelerator_Pedal_value\",\"Fuel_consumption\",\"Torque_of_friction\",\"Maximum_indicated_engine_torque\",\"Engine_torque\",\"Calculated_LOAD_value\",\n",
    "\"Activation_of_Air_compressor\",\"Engine_coolant_temperature\",\"Transmission_oil_temperature\",\"Wheel_velocity_front_left-hand\",\"Wheel_velocity_front_right-hand\",\"Wheel_velocity_rear_left-hand\",\n",
    "\"Torque_converter_speed\"]\n",
    "\n",
    "\n",
    "#For Anamoly Detection\n",
    "from sklearn import svm\n",
    "ano_det = svm.OneClassSVM(nu=0.1,kernel=\"rbf\",gamma=0.1)\n",
    "ano_det.fit(data[columns2])\n",
    "\n",
    "\n"
   ]
  },
  {
   "cell_type": "markdown",
   "metadata": {},
   "source": [
    "Prepocessing of Data"
   ]
  },
  {
   "cell_type": "code",
   "execution_count": 2,
   "metadata": {},
   "outputs": [
    {
     "name": "stdout",
     "output_type": "stream",
     "text": [
      "Driver : 0 number of trips :4  For Train : 3  For valid :1\n",
      "Driver : 1 number of trips :6  For Train : 5  For valid :1\n",
      "Driver : 2 number of trips :4  For Train : 3  For valid :1\n",
      "Driver : 3 number of trips :6  For Train : 5  For valid :1\n",
      "Driver : 4 number of trips :4  For Train : 3  For valid :1\n",
      "Driver : 5 number of trips :4  For Train : 3  For valid :1\n",
      "Driver : 6 number of trips :4  For Train : 3  For valid :1\n",
      "Driver : 7 number of trips :4  For Train : 3  For valid :1\n",
      "Driver : 8 number of trips :4  For Train : 3  For valid :1\n",
      "Driver : 9 number of trips :4  For Train : 3  For valid :1\n",
      "total is 1551\n",
      "(1551, 60, 15)\n"
     ]
    }
   ],
   "source": [
    "classes=['A','B','C','D','E','F','G','H','I','J']\n",
    "\n",
    "\n",
    "drivers =[]\n",
    "for c in classes:\n",
    "    drivers.append(data[data['Class']==c])\n",
    "dataa=[]\n",
    "for c in range(len(drivers)):\n",
    "    nt=0\n",
    "    nv=0\n",
    "    drivers[c]=drivers[c].reset_index(drop=True)\n",
    "    idxs=drivers[c][drivers[c]['Time(s)']==1].index.values\n",
    "    for i in range(len(idxs)):\n",
    "        if i <(len(idxs)-1):\n",
    "            nt=nt+1\n",
    "            dataa.append(drivers[c][idxs[i]:idxs[i+1]])\n",
    "        if i==(len(idxs)-1):\n",
    "            nv=nv+1\n",
    "            dataa.append(drivers[c][idxs[i]:])\n",
    "    print(\"Driver : \"+str(c)+\" number of trips :\"+str(len(idxs))+ \"  For Train : \"+str(nt)+\"  For valid :\"+str(nv))\n",
    "\n",
    "\n",
    "drivers=[]\n",
    "ss=0\n",
    "for i in range(len(dataa)):\n",
    "    #print(n)\n",
    "    n=int(len(dataa[i])/60)\n",
    "    #print(\" Drive \"+str(i)+\" contains \"+str(n)+\" subdriversets\")\n",
    "    dd=0\n",
    "    for j in range(n):\n",
    "        #print(j)\n",
    "        temp=dataa[i][dd:dd+60]\n",
    "        temp=temp.reset_index(drop=True)\n",
    "        drivers.append(temp)\n",
    "        ss=ss+1\n",
    "        dd=dd+60\n",
    "print(\"total is \"+str(ss))\n",
    "\n",
    "  \n",
    "\n",
    "samples = list()\n",
    "labels=list()\n",
    "from sklearn.preprocessing import StandardScaler\n",
    "scaler = StandardScaler()\n",
    "scaler.fit(data[columns2].values)\n",
    "for c in drivers:\n",
    "    labels.append(c['Class'][0])\n",
    "    del c['Class']\n",
    "    del c['Time(s)']\n",
    "    samples.append(scaler.transform(c[columns2].values))\n",
    "data = np.array(samples)\n",
    "print(data.shape)"
   ]
  },
  {
   "cell_type": "code",
   "execution_count": 3,
   "metadata": {},
   "outputs": [
    {
     "data": {
      "text/plain": [
       "(1551, 60, 15)"
      ]
     },
     "execution_count": 3,
     "metadata": {},
     "output_type": "execute_result"
    }
   ],
   "source": [
    "data.shape"
   ]
  },
  {
   "cell_type": "code",
   "execution_count": 4,
   "metadata": {},
   "outputs": [],
   "source": [
    "from sklearn import preprocessing\n",
    "le = preprocessing.LabelEncoder()\n",
    "le.fit(labels)\n",
    "labels=le.transform(labels) \n",
    "\n",
    "\n",
    "from keras import optimizers\n",
    "\n",
    "\n",
    "# Doing the cross validation and training the model\n",
    "\n",
    "from sklearn.model_selection import train_test_split\n",
    "X_train, X_test, y_train, y_test = train_test_split(data, labels, test_size=0.3, random_state=31)\n",
    "X_test, X_predict, y_test, y_predict = train_test_split(X_test, y_test, test_size=0.1, random_state=31)"
   ]
  },
  {
   "cell_type": "code",
   "execution_count": 5,
   "metadata": {},
   "outputs": [
    {
     "data": {
      "text/plain": [
       "(1085, 60, 15)"
      ]
     },
     "execution_count": 5,
     "metadata": {},
     "output_type": "execute_result"
    }
   ],
   "source": [
    "X_train.shape"
   ]
  },
  {
   "cell_type": "code",
   "execution_count": 6,
   "metadata": {},
   "outputs": [
    {
     "data": {
      "text/plain": [
       "(419, 60, 15)"
      ]
     },
     "execution_count": 6,
     "metadata": {},
     "output_type": "execute_result"
    }
   ],
   "source": [
    "X_test.shape"
   ]
  },
  {
   "cell_type": "code",
   "execution_count": 7,
   "metadata": {},
   "outputs": [
    {
     "data": {
      "text/plain": [
       "(47, 60, 15)"
      ]
     },
     "execution_count": 7,
     "metadata": {},
     "output_type": "execute_result"
    }
   ],
   "source": [
    "X_predict.shape"
   ]
  },
  {
   "cell_type": "code",
   "execution_count": 8,
   "metadata": {},
   "outputs": [
    {
     "data": {
      "text/plain": [
       "60"
      ]
     },
     "execution_count": 8,
     "metadata": {},
     "output_type": "execute_result"
    }
   ],
   "source": [
    "data.shape[1]"
   ]
  },
  {
   "cell_type": "code",
   "execution_count": 9,
   "metadata": {},
   "outputs": [
    {
     "data": {
      "text/plain": [
       "15"
      ]
     },
     "execution_count": 9,
     "metadata": {},
     "output_type": "execute_result"
    }
   ],
   "source": [
    "data.shape[2]"
   ]
  },
  {
   "cell_type": "markdown",
   "metadata": {},
   "source": [
    "Implement FCN-LSTM"
   ]
  },
  {
   "cell_type": "code",
   "execution_count": 10,
   "metadata": {},
   "outputs": [],
   "source": [
    "from keras.models import Sequential\n",
    "from keras.layers import Dense\n",
    "from keras.layers import *\n",
    "\n",
    "from keras.models import Model\n",
    "from keras.layers import Input, PReLU, Dense, LSTM, multiply, concatenate, Activation\n",
    "from keras.layers import Conv1D, BatchNormalization, GlobalAveragePooling1D, Permute, Dropout\n",
    "from keras.callbacks import ModelCheckpoint\n",
    "from tensorflow import keras\n",
    "from tensorflow.keras import layers\n",
    "\n",
    "\n",
    "ip = Input(shape=(data.shape[1], data.shape[2]))\n",
    "\n",
    "x = Permute((2, 1))(ip) # dimension shuffle\n",
    "x=LSTM(10)(x)\n",
    "x = Dropout(0.8)(x)\n",
    "\n",
    "\n",
    "y = Conv1D(128, 8, padding='same', kernel_initializer='he_uniform')(ip)\n",
    "y = BatchNormalization()(y)\n",
    "y = Activation('relu')(y)\n",
    "y = Conv1D(256, 5, padding='same', kernel_initializer='he_uniform')(y)\n",
    "y = BatchNormalization()(y)\n",
    "y = Activation('relu')(y)\n",
    "y = Conv1D(128, 3, padding='same', kernel_initializer='he_uniform')(y)\n",
    "y = BatchNormalization()(y)\n",
    "y = Activation('relu')(y)\n",
    "y = GlobalAveragePooling1D()(y)\n",
    "\n",
    "x = concatenate([x, y])\n",
    "out = Dense(10, activation='sigmoid')(y)\n",
    "model = Model(ip, out)"
   ]
  },
  {
   "cell_type": "code",
   "execution_count": 11,
   "metadata": {},
   "outputs": [
    {
     "name": "stdout",
     "output_type": "stream",
     "text": [
      "Model: \"model\"\n",
      "_________________________________________________________________\n",
      "Layer (type)                 Output Shape              Param #   \n",
      "=================================================================\n",
      "input_1 (InputLayer)         [(None, 60, 15)]          0         \n",
      "_________________________________________________________________\n",
      "conv1d (Conv1D)              (None, 60, 128)           15488     \n",
      "_________________________________________________________________\n",
      "batch_normalization (BatchNo (None, 60, 128)           512       \n",
      "_________________________________________________________________\n",
      "activation (Activation)      (None, 60, 128)           0         \n",
      "_________________________________________________________________\n",
      "conv1d_1 (Conv1D)            (None, 60, 256)           164096    \n",
      "_________________________________________________________________\n",
      "batch_normalization_1 (Batch (None, 60, 256)           1024      \n",
      "_________________________________________________________________\n",
      "activation_1 (Activation)    (None, 60, 256)           0         \n",
      "_________________________________________________________________\n",
      "conv1d_2 (Conv1D)            (None, 60, 128)           98432     \n",
      "_________________________________________________________________\n",
      "batch_normalization_2 (Batch (None, 60, 128)           512       \n",
      "_________________________________________________________________\n",
      "activation_2 (Activation)    (None, 60, 128)           0         \n",
      "_________________________________________________________________\n",
      "global_average_pooling1d (Gl (None, 128)               0         \n",
      "_________________________________________________________________\n",
      "dense (Dense)                (None, 10)                1290      \n",
      "=================================================================\n",
      "Total params: 281,354\n",
      "Trainable params: 280,330\n",
      "Non-trainable params: 1,024\n",
      "_________________________________________________________________\n"
     ]
    }
   ],
   "source": [
    "model.summary()"
   ]
  },
  {
   "cell_type": "markdown",
   "metadata": {},
   "source": [
    "Train the Model"
   ]
  },
  {
   "cell_type": "code",
   "execution_count": 12,
   "metadata": {},
   "outputs": [
    {
     "name": "stdout",
     "output_type": "stream",
     "text": [
      "Epoch 1/10\n",
      "9/9 - 70s - loss: 1.8769 - accuracy: 0.3484 - val_loss: 3.5317 - val_accuracy: 0.1718\n",
      "Epoch 2/10\n",
      "9/9 - 2s - loss: 1.3129 - accuracy: 0.5410 - val_loss: 3.9070 - val_accuracy: 0.1957\n",
      "Epoch 3/10\n",
      "9/9 - 2s - loss: 1.0909 - accuracy: 0.6479 - val_loss: 3.5811 - val_accuracy: 0.1718\n",
      "Epoch 4/10\n",
      "9/9 - 2s - loss: 0.9296 - accuracy: 0.7051 - val_loss: 3.1083 - val_accuracy: 0.2339\n",
      "Epoch 5/10\n",
      "9/9 - 2s - loss: 0.8084 - accuracy: 0.7641 - val_loss: 2.7938 - val_accuracy: 0.2745\n",
      "Epoch 6/10\n",
      "9/9 - 2s - loss: 0.7218 - accuracy: 0.7825 - val_loss: 2.3922 - val_accuracy: 0.2912\n",
      "Epoch 7/10\n",
      "9/9 - 2s - loss: 0.6469 - accuracy: 0.8055 - val_loss: 2.0809 - val_accuracy: 0.3556\n",
      "Epoch 8/10\n",
      "9/9 - 2s - loss: 0.6043 - accuracy: 0.8194 - val_loss: 1.7873 - val_accuracy: 0.4057\n",
      "Epoch 9/10\n",
      "9/9 - 2s - loss: 0.5496 - accuracy: 0.8461 - val_loss: 1.5236 - val_accuracy: 0.4845\n",
      "Epoch 10/10\n",
      "9/9 - 2s - loss: 0.5290 - accuracy: 0.8461 - val_loss: 1.3940 - val_accuracy: 0.4869\n"
     ]
    }
   ],
   "source": [
    "model.compile(loss='sparse_categorical_crossentropy', optimizer='adam', metrics=['accuracy'])\n",
    "history = model.fit(X_train, y_train, validation_data=(X_test,y_test), epochs=10, batch_size=128, verbose=2)"
   ]
  },
  {
   "cell_type": "code",
   "execution_count": 13,
   "metadata": {},
   "outputs": [],
   "source": [
    "model.save('Driver_Profiling.h5') "
   ]
  },
  {
   "cell_type": "code",
   "execution_count": 14,
   "metadata": {},
   "outputs": [
    {
     "name": "stdout",
     "output_type": "stream",
     "text": [
      "dict_keys(['loss', 'accuracy', 'val_loss', 'val_accuracy'])\n"
     ]
    },
    {
     "data": {
      "image/png": "[encoded data removed]",
      "text/plain": [
       "<Figure size 432x288 with 1 Axes>"
      ]
     },
     "metadata": {
      "needs_background": "light"
     },
     "output_type": "display_data"
    },
    {
     "data": {
      "image/png": "[encoded data removed]",
      "text/plain": [
       "<Figure size 432x288 with 1 Axes>"
      ]
     },
     "metadata": {
      "needs_background": "light"
     },
     "output_type": "display_data"
    }
   ],
   "source": [
    "print(history.history.keys())\n",
    "# summarize history for accuracy\n",
    "plt.plot(history.history['accuracy'])\n",
    "plt.plot(history.history['val_accuracy'])\n",
    "plt.title('model accuracy')\n",
    "plt.ylabel('accuracy')\n",
    "plt.xlabel('epoch')\n",
    "plt.legend(['train', 'test'], loc='upper left')\n",
    "plt.show()\n",
    "# summarize history for loss\n",
    "plt.plot(history.history['loss'])\n",
    "plt.plot(history.history['val_loss'])\n",
    "plt.title('model loss')\n",
    "plt.ylabel('loss')\n",
    "plt.xlabel('epoch')\n",
    "plt.legend(['train', 'test'], loc='upper left')\n",
    "plt.show()"
   ]
  },
  {
   "cell_type": "code",
   "execution_count": 15,
   "metadata": {},
   "outputs": [
    {
     "name": "stdout",
     "output_type": "stream",
     "text": [
      "14/14 [==============================] - 0s 32ms/step - loss: 1.3940 - accuracy: 0.4869\n",
      "14/14 [==============================] - 0s 21ms/step - loss: 1.3940 - accuracy: 0.4869\n",
      "0\n",
      "14/14 [==============================] - 0s 13ms/step - loss: 5.7976 - accuracy: 0.4821\n",
      "0\n",
      "14/14 [==============================] - 0s 18ms/step - loss: 20.8400 - accuracy: 0.4845\n",
      "0\n",
      "14/14 [==============================] - 0s 18ms/step - loss: 47.4985 - accuracy: 0.4630\n",
      "0\n",
      "14/14 [==============================] - 0s 18ms/step - loss: 191.8286 - accuracy: 0.4582\n",
      "0\n",
      "14/14 [==============================] - 0s 18ms/step - loss: 116.6216 - accuracy: 0.3962\n",
      "0\n",
      "14/14 [==============================] - 0s 13ms/step - loss: 725.3673 - accuracy: 0.4177\n",
      "0\n",
      "14/14 [==============================] - 0s 14ms/step - loss: 191.0176 - accuracy: 0.3699\n",
      "0\n",
      "14/14 [==============================] - 0s 18ms/step - loss: 991.8760 - accuracy: 0.3532\n",
      "    Rate Rows Sensors  Accuracy\n",
      "0     0%    1       7     48.69\n",
      "1     0%   10       7     48.69\n",
      "2   1.0%    1       7     48.21\n",
      "3   1.0%   10       7     48.45\n",
      "4  10.0%    1       7     46.30\n",
      "5  10.0%   10       7     45.82\n",
      "6  30.0%    1       7     39.62\n",
      "7  30.0%   10       7     41.77\n",
      "8  50.0%    1       7     36.99\n",
      "9  50.0%   10       7     35.32\n"
     ]
    }
   ],
   "source": [
    " #Adding some anomalies to the data to test the performance of the model\n",
    "import random\n",
    "rates=[0,0.01,0.1,0.3,0.5]\n",
    "rows=[1,10]\n",
    "sensors=[7]\n",
    "\n",
    "results=pd.DataFrame(columns=[\"Rate\",\"Rows\",\"Sensors\",\"Accuracy\"])\n",
    "for rate in rates:\n",
    "      for row in rows:\n",
    "        for sensor in sensors:\n",
    "            X_test2=X_test.copy()\n",
    "            total=X_test.shape[0]*X_test.shape[1]*X_test.shape[2]\n",
    "            total=int(311*rate)\n",
    "            n=sensor\n",
    "            nrows=row\n",
    "            for i in range(total):\n",
    "                if(i%10000==0):\n",
    "                    print(i)\n",
    "                fst=random.randint(0,X_test.shape[0]-1)\n",
    "                snd=random.randint(0,X_test.shape[1]-nrows)\n",
    "                trh2=random.sample(range(0, X_test.shape[2]), n)\n",
    "                for j in range(n):\n",
    "                    for jj in range(nrows):\n",
    "                        X_test2[fst][snd+jj][trh2[j]]=X_test2[fst][snd+jj][trh2[j]]+3000\n",
    "            acc=round(model.evaluate(X_test2, y_test)[1]*100,2)\n",
    "            results = results.append({'Rate': str(rate*100)+\"%\",'Rows': str(row)+\"\",'Sensors': str(sensor)+\"\",'Accuracy': acc}, ignore_index=True)\n",
    "    #model.evaluate(X_test2, y_test)\n",
    "\n",
    "\n",
    "print(results)"
   ]
  },
  {
   "cell_type": "markdown",
   "metadata": {},
   "source": [
    "Deployment Part"
   ]
  },
  {
   "cell_type": "code",
   "execution_count": 16,
   "metadata": {},
   "outputs": [],
   "source": [
    "model = keras.models.load_model('Driver_Profiling.h5')"
   ]
  },
  {
   "cell_type": "code",
   "execution_count": 17,
   "metadata": {},
   "outputs": [],
   "source": [
    "Live_Data= np.expand_dims(X_predict[10],axis=0)"
   ]
  },
  {
   "cell_type": "code",
   "execution_count": 18,
   "metadata": {},
   "outputs": [
    {
     "data": {
      "text/plain": [
       "(60, 15)"
      ]
     },
     "execution_count": 18,
     "metadata": {},
     "output_type": "execute_result"
    }
   ],
   "source": [
    "X_predict[1].shape"
   ]
  },
  {
   "cell_type": "code",
   "execution_count": 19,
   "metadata": {},
   "outputs": [
    {
     "data": {
      "text/plain": [
       "(1, 60, 15)"
      ]
     },
     "execution_count": 19,
     "metadata": {},
     "output_type": "execute_result"
    }
   ],
   "source": [
    "Live_Data.shape"
   ]
  },
  {
   "cell_type": "code",
   "execution_count": 20,
   "metadata": {},
   "outputs": [
    {
     "data": {
      "text/plain": [
       "array([[0.84153163, 0.07260692, 0.7982757 , 0.67956305, 0.4729914 ,\n",
       "        0.438281  , 0.47081518, 0.09413144, 0.17564386, 0.53980017]],\n",
       "      dtype=float32)"
      ]
     },
     "execution_count": 20,
     "metadata": {},
     "output_type": "execute_result"
    }
   ],
   "source": [
    "pred = model.predict(Live_Data)\n",
    "pred # by mymodel"
   ]
  },
  {
   "cell_type": "code",
   "execution_count": 21,
   "metadata": {},
   "outputs": [
    {
     "data": {
      "text/plain": [
       "0"
      ]
     },
     "execution_count": 21,
     "metadata": {},
     "output_type": "execute_result"
    }
   ],
   "source": [
    "np.argmax(pred)# by mymodel"
   ]
  },
  {
   "cell_type": "code",
   "execution_count": 22,
   "metadata": {},
   "outputs": [
    {
     "data": {
      "text/plain": [
       "5"
      ]
     },
     "execution_count": 22,
     "metadata": {},
     "output_type": "execute_result"
    }
   ],
   "source": [
    "y_predict[10] # stored value / actual values"
   ]
  },
  {
   "cell_type": "code",
   "execution_count": 23,
   "metadata": {},
   "outputs": [
    {
     "data": {
      "text/plain": [
       "array([1, 0, 3, 4, 6, 4, 3, 1, 9, 5, 5, 8, 9, 4, 1, 3, 0, 1, 6, 7, 1, 3,\n",
       "       9, 8, 2, 6, 8, 3, 5, 1, 3, 1, 7, 3, 5, 7, 5, 1, 1, 6, 9, 0, 2, 0,\n",
       "       1, 3, 6], dtype=int64)"
      ]
     },
     "execution_count": 23,
     "metadata": {},
     "output_type": "execute_result"
    }
   ],
   "source": [
    "y_predict"
   ]
  },
  {
   "cell_type": "code",
   "execution_count": null,
   "metadata": {},
   "outputs": [],
   "source": []
  }
 ],
 "metadata": {
  "interpreter": {
   "hash": "c8786e068652b7f12a3e1bf2aa2bbfcb04eb64ab636cba77baf09f1ee5420691"
  },
  "kernelspec": {
   "display_name": "Python 3.7.1 64-bit ('base': conda)",
   "language": "python",
   "name": "python3"
  },
  "language_info": {
   "codemirror_mode": {
    "name": "ipython",
    "version": 3
   },
   "file_extension": ".py",
   "mimetype": "text/x-python",
   "name": "python",
   "nbconvert_exporter": "python",
   "pygments_lexer": "ipython3",
   "version": "3.7.1"
  },
  "orig_nbformat": 4
 },
 "nbformat": 4,
 "nbformat_minor": 2
}
